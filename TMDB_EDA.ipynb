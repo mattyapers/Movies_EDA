{
 "cells": [
  {
   "cell_type": "markdown",
   "metadata": {},
   "source": [
    "# Import Libs"
   ]
  },
  {
   "cell_type": "markdown",
   "metadata": {},
   "source": [
    "Data is taken from https://www.kaggle.com/datasets/asaniczka/tmdb-movies-dataset-2023-930k-movies"
   ]
  },
  {
   "cell_type": "code",
   "execution_count": 1,
   "metadata": {},
   "outputs": [],
   "source": [
    "import pandas as pd\n",
    "from IPython.core.interactiveshell import InteractiveShell\n",
    "InteractiveShell.ast_node_interactivity = \"all\""
   ]
  },
  {
   "cell_type": "code",
   "execution_count": 3,
   "metadata": {},
   "outputs": [],
   "source": [
    "# df = pd.read_csv(\"TMDB_movie_dataset_v11.csv\")\n",
    "df = pd.read_parquet(\"TMDB_movie_dataset_v11.parquet\")"
   ]
  },
  {
   "cell_type": "code",
   "execution_count": 79,
   "metadata": {},
   "outputs": [
    {
     "name": "stdout",
     "output_type": "stream",
     "text": [
      "<class 'pandas.core.frame.DataFrame'>\n",
      "RangeIndex: 1149756 entries, 0 to 1149755\n",
      "Data columns (total 24 columns):\n",
      " #   Column                Non-Null Count    Dtype  \n",
      "---  ------                --------------    -----  \n",
      " 0   id                    1149756 non-null  int64  \n",
      " 1   title                 1149743 non-null  object \n",
      " 2   vote_average          1149756 non-null  float64\n",
      " 3   vote_count            1149756 non-null  int64  \n",
      " 4   status                1149756 non-null  object \n",
      " 5   release_date          957097 non-null   object \n",
      " 6   revenue               1149756 non-null  int64  \n",
      " 7   runtime               1149756 non-null  int64  \n",
      " 8   adult                 1149756 non-null  bool   \n",
      " 9   backdrop_path         303995 non-null   object \n",
      " 10  budget                1149756 non-null  int64  \n",
      " 11  homepage              121470 non-null   object \n",
      " 12  imdb_id               605972 non-null   object \n",
      " 13  original_language     1149756 non-null  object \n",
      " 14  original_title        1149743 non-null  object \n",
      " 15  overview              914464 non-null   object \n",
      " 16  popularity            1149756 non-null  float64\n",
      " 17  poster_path           784149 non-null   object \n",
      " 18  tagline               161152 non-null   object \n",
      " 19  genres                686728 non-null   object \n",
      " 20  production_companies  517447 non-null   object \n",
      " 21  production_countries  637693 non-null   object \n",
      " 22  spoken_languages      657379 non-null   object \n",
      " 23  keywords              309948 non-null   object \n",
      "dtypes: bool(1), float64(2), int64(5), object(16)\n",
      "memory usage: 202.9+ MB\n"
     ]
    },
    {
     "data": {
      "text/html": [
       "<div>\n",
       "<style scoped>\n",
       "    .dataframe tbody tr th:only-of-type {\n",
       "        vertical-align: middle;\n",
       "    }\n",
       "\n",
       "    .dataframe tbody tr th {\n",
       "        vertical-align: top;\n",
       "    }\n",
       "\n",
       "    .dataframe thead th {\n",
       "        text-align: right;\n",
       "    }\n",
       "</style>\n",
       "<table border=\"1\" class=\"dataframe\">\n",
       "  <thead>\n",
       "    <tr style=\"text-align: right;\">\n",
       "      <th></th>\n",
       "      <th>id</th>\n",
       "      <th>title</th>\n",
       "      <th>vote_average</th>\n",
       "      <th>vote_count</th>\n",
       "      <th>status</th>\n",
       "      <th>release_date</th>\n",
       "      <th>revenue</th>\n",
       "      <th>runtime</th>\n",
       "      <th>adult</th>\n",
       "      <th>backdrop_path</th>\n",
       "      <th>...</th>\n",
       "      <th>original_title</th>\n",
       "      <th>overview</th>\n",
       "      <th>popularity</th>\n",
       "      <th>poster_path</th>\n",
       "      <th>tagline</th>\n",
       "      <th>genres</th>\n",
       "      <th>production_companies</th>\n",
       "      <th>production_countries</th>\n",
       "      <th>spoken_languages</th>\n",
       "      <th>keywords</th>\n",
       "    </tr>\n",
       "  </thead>\n",
       "  <tbody>\n",
       "    <tr>\n",
       "      <th>0</th>\n",
       "      <td>27205</td>\n",
       "      <td>Inception</td>\n",
       "      <td>8.364</td>\n",
       "      <td>34495</td>\n",
       "      <td>Released</td>\n",
       "      <td>2010-07-15</td>\n",
       "      <td>825532764</td>\n",
       "      <td>148</td>\n",
       "      <td>False</td>\n",
       "      <td>/8ZTVqvKDQ8emSGUEMjsS4yHAwrp.jpg</td>\n",
       "      <td>...</td>\n",
       "      <td>Inception</td>\n",
       "      <td>Cobb, a skilled thief who commits corporate es...</td>\n",
       "      <td>83.952</td>\n",
       "      <td>/oYuLEt3zVCKq57qu2F8dT7NIa6f.jpg</td>\n",
       "      <td>Your mind is the scene of the crime.</td>\n",
       "      <td>Action, Science Fiction, Adventure</td>\n",
       "      <td>Legendary Pictures, Syncopy, Warner Bros. Pict...</td>\n",
       "      <td>United Kingdom, United States of America</td>\n",
       "      <td>English, French, Japanese, Swahili</td>\n",
       "      <td>rescue, mission, dream, airplane, paris, franc...</td>\n",
       "    </tr>\n",
       "    <tr>\n",
       "      <th>1</th>\n",
       "      <td>157336</td>\n",
       "      <td>Interstellar</td>\n",
       "      <td>8.417</td>\n",
       "      <td>32571</td>\n",
       "      <td>Released</td>\n",
       "      <td>2014-11-05</td>\n",
       "      <td>701729206</td>\n",
       "      <td>169</td>\n",
       "      <td>False</td>\n",
       "      <td>/pbrkL804c8yAv3zBZR4QPEafpAR.jpg</td>\n",
       "      <td>...</td>\n",
       "      <td>Interstellar</td>\n",
       "      <td>The adventures of a group of explorers who mak...</td>\n",
       "      <td>140.241</td>\n",
       "      <td>/gEU2QniE6E77NI6lCU6MxlNBvIx.jpg</td>\n",
       "      <td>Mankind was born on Earth. It was never meant ...</td>\n",
       "      <td>Adventure, Drama, Science Fiction</td>\n",
       "      <td>Legendary Pictures, Syncopy, Lynda Obst Produc...</td>\n",
       "      <td>United Kingdom, United States of America</td>\n",
       "      <td>English</td>\n",
       "      <td>rescue, future, spacecraft, race against time,...</td>\n",
       "    </tr>\n",
       "    <tr>\n",
       "      <th>2</th>\n",
       "      <td>155</td>\n",
       "      <td>The Dark Knight</td>\n",
       "      <td>8.512</td>\n",
       "      <td>30619</td>\n",
       "      <td>Released</td>\n",
       "      <td>2008-07-16</td>\n",
       "      <td>1004558444</td>\n",
       "      <td>152</td>\n",
       "      <td>False</td>\n",
       "      <td>/nMKdUUepR0i5zn0y1T4CsSB5chy.jpg</td>\n",
       "      <td>...</td>\n",
       "      <td>The Dark Knight</td>\n",
       "      <td>Batman raises the stakes in his war on crime. ...</td>\n",
       "      <td>130.643</td>\n",
       "      <td>/qJ2tW6WMUDux911r6m7haRef0WH.jpg</td>\n",
       "      <td>Welcome to a world without rules.</td>\n",
       "      <td>Drama, Action, Crime, Thriller</td>\n",
       "      <td>DC Comics, Legendary Pictures, Syncopy, Isobel...</td>\n",
       "      <td>United Kingdom, United States of America</td>\n",
       "      <td>English, Mandarin</td>\n",
       "      <td>joker, sadism, chaos, secret identity, crime f...</td>\n",
       "    </tr>\n",
       "  </tbody>\n",
       "</table>\n",
       "<p>3 rows × 24 columns</p>\n",
       "</div>"
      ],
      "text/plain": [
       "       id            title  vote_average  vote_count    status release_date  \\\n",
       "0   27205        Inception         8.364       34495  Released   2010-07-15   \n",
       "1  157336     Interstellar         8.417       32571  Released   2014-11-05   \n",
       "2     155  The Dark Knight         8.512       30619  Released   2008-07-16   \n",
       "\n",
       "      revenue  runtime  adult                     backdrop_path  ...  \\\n",
       "0   825532764      148  False  /8ZTVqvKDQ8emSGUEMjsS4yHAwrp.jpg  ...   \n",
       "1   701729206      169  False  /pbrkL804c8yAv3zBZR4QPEafpAR.jpg  ...   \n",
       "2  1004558444      152  False  /nMKdUUepR0i5zn0y1T4CsSB5chy.jpg  ...   \n",
       "\n",
       "    original_title                                           overview  \\\n",
       "0        Inception  Cobb, a skilled thief who commits corporate es...   \n",
       "1     Interstellar  The adventures of a group of explorers who mak...   \n",
       "2  The Dark Knight  Batman raises the stakes in his war on crime. ...   \n",
       "\n",
       "  popularity                       poster_path  \\\n",
       "0     83.952  /oYuLEt3zVCKq57qu2F8dT7NIa6f.jpg   \n",
       "1    140.241  /gEU2QniE6E77NI6lCU6MxlNBvIx.jpg   \n",
       "2    130.643  /qJ2tW6WMUDux911r6m7haRef0WH.jpg   \n",
       "\n",
       "                                             tagline  \\\n",
       "0               Your mind is the scene of the crime.   \n",
       "1  Mankind was born on Earth. It was never meant ...   \n",
       "2                  Welcome to a world without rules.   \n",
       "\n",
       "                               genres  \\\n",
       "0  Action, Science Fiction, Adventure   \n",
       "1   Adventure, Drama, Science Fiction   \n",
       "2      Drama, Action, Crime, Thriller   \n",
       "\n",
       "                                production_companies  \\\n",
       "0  Legendary Pictures, Syncopy, Warner Bros. Pict...   \n",
       "1  Legendary Pictures, Syncopy, Lynda Obst Produc...   \n",
       "2  DC Comics, Legendary Pictures, Syncopy, Isobel...   \n",
       "\n",
       "                       production_countries  \\\n",
       "0  United Kingdom, United States of America   \n",
       "1  United Kingdom, United States of America   \n",
       "2  United Kingdom, United States of America   \n",
       "\n",
       "                     spoken_languages  \\\n",
       "0  English, French, Japanese, Swahili   \n",
       "1                             English   \n",
       "2                   English, Mandarin   \n",
       "\n",
       "                                            keywords  \n",
       "0  rescue, mission, dream, airplane, paris, franc...  \n",
       "1  rescue, future, spacecraft, race against time,...  \n",
       "2  joker, sadism, chaos, secret identity, crime f...  \n",
       "\n",
       "[3 rows x 24 columns]"
      ]
     },
     "execution_count": 79,
     "metadata": {},
     "output_type": "execute_result"
    },
    {
     "data": {
      "text/plain": [
       "Index(['id', 'title', 'vote_average', 'vote_count', 'status', 'release_date',\n",
       "       'revenue', 'runtime', 'adult', 'backdrop_path', 'budget', 'homepage',\n",
       "       'imdb_id', 'original_language', 'original_title', 'overview',\n",
       "       'popularity', 'poster_path', 'tagline', 'genres',\n",
       "       'production_companies', 'production_countries', 'spoken_languages',\n",
       "       'keywords'],\n",
       "      dtype='object')"
      ]
     },
     "execution_count": 79,
     "metadata": {},
     "output_type": "execute_result"
    }
   ],
   "source": [
    "df.info()\n",
    "df.head(3)\n",
    "df.columns"
   ]
  },
  {
   "cell_type": "markdown",
   "metadata": {},
   "source": [
    "# Data Cleaning"
   ]
  },
  {
   "cell_type": "code",
   "execution_count": 102,
   "metadata": {},
   "outputs": [],
   "source": [
    "# Drop columns that are not needed\n",
    "columns_to_drop = ['backdrop_path', 'homepage', 'tagline', 'keywords']\n",
    "df.drop(columns=columns_to_drop, inplace=True)"
   ]
  },
  {
   "cell_type": "code",
   "execution_count": 103,
   "metadata": {},
   "outputs": [
    {
     "data": {
      "text/plain": [
       "(0, 20)"
      ]
     },
     "execution_count": 103,
     "metadata": {},
     "output_type": "execute_result"
    },
    {
     "data": {
      "text/plain": [
       "(1149024, 20)"
      ]
     },
     "execution_count": 103,
     "metadata": {},
     "output_type": "execute_result"
    }
   ],
   "source": [
    "# Looking at duplicates\n",
    "df[df.duplicated(subset=['id', 'title'])].shape\n",
    "df.drop_duplicates(subset=['id', 'title'], inplace=True)\n",
    "df.shape"
   ]
  },
  {
   "cell_type": "code",
   "execution_count": 104,
   "metadata": {},
   "outputs": [
    {
     "data": {
      "text/plain": [
       "1                    title\n",
       "5             release_date\n",
       "10                 imdb_id\n",
       "12          original_title\n",
       "13                overview\n",
       "15             poster_path\n",
       "16                  genres\n",
       "17    production_companies\n",
       "18    production_countries\n",
       "19        spoken_languages\n",
       "Name: cols, dtype: object"
      ]
     },
     "execution_count": 104,
     "metadata": {},
     "output_type": "execute_result"
    }
   ],
   "source": [
    "# Identify columns with missing values\n",
    "missing = df.isna().sum().to_frame(name='val').reset_index(names='cols')\n",
    "missing_cols = missing[missing['val'] > 0]['cols']\n",
    "missing_cols"
   ]
  },
  {
   "cell_type": "code",
   "execution_count": 105,
   "metadata": {},
   "outputs": [
    {
     "name": "stdout",
     "output_type": "stream",
     "text": [
      "Column :title\n"
     ]
    },
    {
     "data": {
      "text/html": [
       "<div>\n",
       "<style scoped>\n",
       "    .dataframe tbody tr th:only-of-type {\n",
       "        vertical-align: middle;\n",
       "    }\n",
       "\n",
       "    .dataframe tbody tr th {\n",
       "        vertical-align: top;\n",
       "    }\n",
       "\n",
       "    .dataframe thead th {\n",
       "        text-align: right;\n",
       "    }\n",
       "</style>\n",
       "<table border=\"1\" class=\"dataframe\">\n",
       "  <thead>\n",
       "    <tr style=\"text-align: right;\">\n",
       "      <th></th>\n",
       "      <th>id</th>\n",
       "      <th>title</th>\n",
       "      <th>vote_average</th>\n",
       "      <th>vote_count</th>\n",
       "      <th>status</th>\n",
       "      <th>release_date</th>\n",
       "      <th>revenue</th>\n",
       "      <th>runtime</th>\n",
       "      <th>adult</th>\n",
       "      <th>budget</th>\n",
       "      <th>imdb_id</th>\n",
       "      <th>original_language</th>\n",
       "      <th>original_title</th>\n",
       "      <th>overview</th>\n",
       "      <th>popularity</th>\n",
       "      <th>poster_path</th>\n",
       "      <th>genres</th>\n",
       "      <th>production_companies</th>\n",
       "      <th>production_countries</th>\n",
       "      <th>spoken_languages</th>\n",
       "    </tr>\n",
       "  </thead>\n",
       "  <tbody>\n",
       "    <tr>\n",
       "      <th>408573</th>\n",
       "      <td>1104880</td>\n",
       "      <td>None</td>\n",
       "      <td>0.0</td>\n",
       "      <td>0</td>\n",
       "      <td>Canceled</td>\n",
       "      <td>None</td>\n",
       "      <td>0</td>\n",
       "      <td>0</td>\n",
       "      <td>False</td>\n",
       "      <td>0</td>\n",
       "      <td>None</td>\n",
       "      <td>en</td>\n",
       "      <td>None</td>\n",
       "      <td>None</td>\n",
       "      <td>0.6</td>\n",
       "      <td>/oXvQVlS7ZR7d5t130rVZH7ATxcQ.jpg</td>\n",
       "      <td>Horror, Mystery, Thriller</td>\n",
       "      <td>None</td>\n",
       "      <td>United States of America</td>\n",
       "      <td>English</td>\n",
       "    </tr>\n",
       "  </tbody>\n",
       "</table>\n",
       "</div>"
      ],
      "text/plain": [
       "             id title  vote_average  vote_count    status release_date  \\\n",
       "408573  1104880  None           0.0           0  Canceled         None   \n",
       "\n",
       "        revenue  runtime  adult  budget imdb_id original_language  \\\n",
       "408573        0        0  False       0    None                en   \n",
       "\n",
       "       original_title overview  popularity                       poster_path  \\\n",
       "408573           None     None         0.6  /oXvQVlS7ZR7d5t130rVZH7ATxcQ.jpg   \n",
       "\n",
       "                           genres production_companies  \\\n",
       "408573  Horror, Mystery, Thriller                 None   \n",
       "\n",
       "            production_countries spoken_languages  \n",
       "408573  United States of America          English  "
      ]
     },
     "execution_count": 105,
     "metadata": {},
     "output_type": "execute_result"
    },
    {
     "name": "stdout",
     "output_type": "stream",
     "text": [
      "--------------------------------------------------\n",
      "Column :release_date\n"
     ]
    },
    {
     "data": {
      "text/html": [
       "<div>\n",
       "<style scoped>\n",
       "    .dataframe tbody tr th:only-of-type {\n",
       "        vertical-align: middle;\n",
       "    }\n",
       "\n",
       "    .dataframe tbody tr th {\n",
       "        vertical-align: top;\n",
       "    }\n",
       "\n",
       "    .dataframe thead th {\n",
       "        text-align: right;\n",
       "    }\n",
       "</style>\n",
       "<table border=\"1\" class=\"dataframe\">\n",
       "  <thead>\n",
       "    <tr style=\"text-align: right;\">\n",
       "      <th></th>\n",
       "      <th>id</th>\n",
       "      <th>title</th>\n",
       "      <th>vote_average</th>\n",
       "      <th>vote_count</th>\n",
       "      <th>status</th>\n",
       "      <th>release_date</th>\n",
       "      <th>revenue</th>\n",
       "      <th>runtime</th>\n",
       "      <th>adult</th>\n",
       "      <th>budget</th>\n",
       "      <th>imdb_id</th>\n",
       "      <th>original_language</th>\n",
       "      <th>original_title</th>\n",
       "      <th>overview</th>\n",
       "      <th>popularity</th>\n",
       "      <th>poster_path</th>\n",
       "      <th>genres</th>\n",
       "      <th>production_companies</th>\n",
       "      <th>production_countries</th>\n",
       "      <th>spoken_languages</th>\n",
       "    </tr>\n",
       "  </thead>\n",
       "  <tbody>\n",
       "    <tr>\n",
       "      <th>15540</th>\n",
       "      <td>733668</td>\n",
       "      <td>Return</td>\n",
       "      <td>6.171</td>\n",
       "      <td>129</td>\n",
       "      <td>Released</td>\n",
       "      <td>None</td>\n",
       "      <td>0</td>\n",
       "      <td>18</td>\n",
       "      <td>False</td>\n",
       "      <td>0</td>\n",
       "      <td>None</td>\n",
       "      <td>hy</td>\n",
       "      <td>Return</td>\n",
       "      <td>Eyüp decides to cross mount Ararat looking for...</td>\n",
       "      <td>3.563</td>\n",
       "      <td>None</td>\n",
       "      <td>None</td>\n",
       "      <td>None</td>\n",
       "      <td>None</td>\n",
       "      <td>Armenian, Kurdish</td>\n",
       "    </tr>\n",
       "  </tbody>\n",
       "</table>\n",
       "</div>"
      ],
      "text/plain": [
       "           id   title  vote_average  vote_count    status release_date  \\\n",
       "15540  733668  Return         6.171         129  Released         None   \n",
       "\n",
       "       revenue  runtime  adult  budget imdb_id original_language  \\\n",
       "15540        0       18  False       0    None                hy   \n",
       "\n",
       "      original_title                                           overview  \\\n",
       "15540         Return  Eyüp decides to cross mount Ararat looking for...   \n",
       "\n",
       "       popularity poster_path genres production_companies  \\\n",
       "15540       3.563        None   None                 None   \n",
       "\n",
       "      production_countries   spoken_languages  \n",
       "15540                 None  Armenian, Kurdish  "
      ]
     },
     "execution_count": 105,
     "metadata": {},
     "output_type": "execute_result"
    },
    {
     "name": "stdout",
     "output_type": "stream",
     "text": [
      "--------------------------------------------------\n",
      "Column :imdb_id\n"
     ]
    },
    {
     "data": {
      "text/html": [
       "<div>\n",
       "<style scoped>\n",
       "    .dataframe tbody tr th:only-of-type {\n",
       "        vertical-align: middle;\n",
       "    }\n",
       "\n",
       "    .dataframe tbody tr th {\n",
       "        vertical-align: top;\n",
       "    }\n",
       "\n",
       "    .dataframe thead th {\n",
       "        text-align: right;\n",
       "    }\n",
       "</style>\n",
       "<table border=\"1\" class=\"dataframe\">\n",
       "  <thead>\n",
       "    <tr style=\"text-align: right;\">\n",
       "      <th></th>\n",
       "      <th>id</th>\n",
       "      <th>title</th>\n",
       "      <th>vote_average</th>\n",
       "      <th>vote_count</th>\n",
       "      <th>status</th>\n",
       "      <th>release_date</th>\n",
       "      <th>revenue</th>\n",
       "      <th>runtime</th>\n",
       "      <th>adult</th>\n",
       "      <th>budget</th>\n",
       "      <th>imdb_id</th>\n",
       "      <th>original_language</th>\n",
       "      <th>original_title</th>\n",
       "      <th>overview</th>\n",
       "      <th>popularity</th>\n",
       "      <th>poster_path</th>\n",
       "      <th>genres</th>\n",
       "      <th>production_companies</th>\n",
       "      <th>production_countries</th>\n",
       "      <th>spoken_languages</th>\n",
       "    </tr>\n",
       "  </thead>\n",
       "  <tbody>\n",
       "    <tr>\n",
       "      <th>5347</th>\n",
       "      <td>567604</td>\n",
       "      <td>Once Upon a Deadpool</td>\n",
       "      <td>7.146</td>\n",
       "      <td>646</td>\n",
       "      <td>Released</td>\n",
       "      <td>2018-12-11</td>\n",
       "      <td>0</td>\n",
       "      <td>118</td>\n",
       "      <td>False</td>\n",
       "      <td>0</td>\n",
       "      <td>None</td>\n",
       "      <td>en</td>\n",
       "      <td>Once Upon a Deadpool</td>\n",
       "      <td>A kidnapped Fred Savage is forced to endure De...</td>\n",
       "      <td>23.001</td>\n",
       "      <td>/5Ka49BWWyKMXr93YMbH5wLN7aAM.jpg</td>\n",
       "      <td>Comedy, Action, Adventure</td>\n",
       "      <td>20th Century Fox, Genre Films, Maximum Effort</td>\n",
       "      <td>United States of America</td>\n",
       "      <td>English</td>\n",
       "    </tr>\n",
       "  </tbody>\n",
       "</table>\n",
       "</div>"
      ],
      "text/plain": [
       "          id                 title  vote_average  vote_count    status  \\\n",
       "5347  567604  Once Upon a Deadpool         7.146         646  Released   \n",
       "\n",
       "     release_date  revenue  runtime  adult  budget imdb_id original_language  \\\n",
       "5347   2018-12-11        0      118  False       0    None                en   \n",
       "\n",
       "            original_title                                           overview  \\\n",
       "5347  Once Upon a Deadpool  A kidnapped Fred Savage is forced to endure De...   \n",
       "\n",
       "      popularity                       poster_path                     genres  \\\n",
       "5347      23.001  /5Ka49BWWyKMXr93YMbH5wLN7aAM.jpg  Comedy, Action, Adventure   \n",
       "\n",
       "                               production_companies      production_countries  \\\n",
       "5347  20th Century Fox, Genre Films, Maximum Effort  United States of America   \n",
       "\n",
       "     spoken_languages  \n",
       "5347          English  "
      ]
     },
     "execution_count": 105,
     "metadata": {},
     "output_type": "execute_result"
    },
    {
     "name": "stdout",
     "output_type": "stream",
     "text": [
      "--------------------------------------------------\n",
      "Column :original_title\n"
     ]
    },
    {
     "data": {
      "text/html": [
       "<div>\n",
       "<style scoped>\n",
       "    .dataframe tbody tr th:only-of-type {\n",
       "        vertical-align: middle;\n",
       "    }\n",
       "\n",
       "    .dataframe tbody tr th {\n",
       "        vertical-align: top;\n",
       "    }\n",
       "\n",
       "    .dataframe thead th {\n",
       "        text-align: right;\n",
       "    }\n",
       "</style>\n",
       "<table border=\"1\" class=\"dataframe\">\n",
       "  <thead>\n",
       "    <tr style=\"text-align: right;\">\n",
       "      <th></th>\n",
       "      <th>id</th>\n",
       "      <th>title</th>\n",
       "      <th>vote_average</th>\n",
       "      <th>vote_count</th>\n",
       "      <th>status</th>\n",
       "      <th>release_date</th>\n",
       "      <th>revenue</th>\n",
       "      <th>runtime</th>\n",
       "      <th>adult</th>\n",
       "      <th>budget</th>\n",
       "      <th>imdb_id</th>\n",
       "      <th>original_language</th>\n",
       "      <th>original_title</th>\n",
       "      <th>overview</th>\n",
       "      <th>popularity</th>\n",
       "      <th>poster_path</th>\n",
       "      <th>genres</th>\n",
       "      <th>production_companies</th>\n",
       "      <th>production_countries</th>\n",
       "      <th>spoken_languages</th>\n",
       "    </tr>\n",
       "  </thead>\n",
       "  <tbody>\n",
       "    <tr>\n",
       "      <th>408573</th>\n",
       "      <td>1104880</td>\n",
       "      <td>None</td>\n",
       "      <td>0.0</td>\n",
       "      <td>0</td>\n",
       "      <td>Canceled</td>\n",
       "      <td>None</td>\n",
       "      <td>0</td>\n",
       "      <td>0</td>\n",
       "      <td>False</td>\n",
       "      <td>0</td>\n",
       "      <td>None</td>\n",
       "      <td>en</td>\n",
       "      <td>None</td>\n",
       "      <td>None</td>\n",
       "      <td>0.6</td>\n",
       "      <td>/oXvQVlS7ZR7d5t130rVZH7ATxcQ.jpg</td>\n",
       "      <td>Horror, Mystery, Thriller</td>\n",
       "      <td>None</td>\n",
       "      <td>United States of America</td>\n",
       "      <td>English</td>\n",
       "    </tr>\n",
       "  </tbody>\n",
       "</table>\n",
       "</div>"
      ],
      "text/plain": [
       "             id title  vote_average  vote_count    status release_date  \\\n",
       "408573  1104880  None           0.0           0  Canceled         None   \n",
       "\n",
       "        revenue  runtime  adult  budget imdb_id original_language  \\\n",
       "408573        0        0  False       0    None                en   \n",
       "\n",
       "       original_title overview  popularity                       poster_path  \\\n",
       "408573           None     None         0.6  /oXvQVlS7ZR7d5t130rVZH7ATxcQ.jpg   \n",
       "\n",
       "                           genres production_companies  \\\n",
       "408573  Horror, Mystery, Thriller                 None   \n",
       "\n",
       "            production_countries spoken_languages  \n",
       "408573  United States of America          English  "
      ]
     },
     "execution_count": 105,
     "metadata": {},
     "output_type": "execute_result"
    },
    {
     "name": "stdout",
     "output_type": "stream",
     "text": [
      "--------------------------------------------------\n",
      "Column :overview\n"
     ]
    },
    {
     "data": {
      "text/html": [
       "<div>\n",
       "<style scoped>\n",
       "    .dataframe tbody tr th:only-of-type {\n",
       "        vertical-align: middle;\n",
       "    }\n",
       "\n",
       "    .dataframe tbody tr th {\n",
       "        vertical-align: top;\n",
       "    }\n",
       "\n",
       "    .dataframe thead th {\n",
       "        text-align: right;\n",
       "    }\n",
       "</style>\n",
       "<table border=\"1\" class=\"dataframe\">\n",
       "  <thead>\n",
       "    <tr style=\"text-align: right;\">\n",
       "      <th></th>\n",
       "      <th>id</th>\n",
       "      <th>title</th>\n",
       "      <th>vote_average</th>\n",
       "      <th>vote_count</th>\n",
       "      <th>status</th>\n",
       "      <th>release_date</th>\n",
       "      <th>revenue</th>\n",
       "      <th>runtime</th>\n",
       "      <th>adult</th>\n",
       "      <th>budget</th>\n",
       "      <th>imdb_id</th>\n",
       "      <th>original_language</th>\n",
       "      <th>original_title</th>\n",
       "      <th>overview</th>\n",
       "      <th>popularity</th>\n",
       "      <th>poster_path</th>\n",
       "      <th>genres</th>\n",
       "      <th>production_companies</th>\n",
       "      <th>production_countries</th>\n",
       "      <th>spoken_languages</th>\n",
       "    </tr>\n",
       "  </thead>\n",
       "  <tbody>\n",
       "    <tr>\n",
       "      <th>7637</th>\n",
       "      <td>42436</td>\n",
       "      <td>Natale in crociera</td>\n",
       "      <td>4.935</td>\n",
       "      <td>387</td>\n",
       "      <td>Released</td>\n",
       "      <td>2007-12-14</td>\n",
       "      <td>0</td>\n",
       "      <td>103</td>\n",
       "      <td>False</td>\n",
       "      <td>0</td>\n",
       "      <td>tt1065329</td>\n",
       "      <td>it</td>\n",
       "      <td>Natale in crociera</td>\n",
       "      <td>None</td>\n",
       "      <td>5.52</td>\n",
       "      <td>/n83LsfQCPReYembtNtuGwqUkUOS.jpg</td>\n",
       "      <td>Comedy</td>\n",
       "      <td>Filmauro</td>\n",
       "      <td>Italy</td>\n",
       "      <td>Italian</td>\n",
       "    </tr>\n",
       "  </tbody>\n",
       "</table>\n",
       "</div>"
      ],
      "text/plain": [
       "         id               title  vote_average  vote_count    status  \\\n",
       "7637  42436  Natale in crociera         4.935         387  Released   \n",
       "\n",
       "     release_date  revenue  runtime  adult  budget    imdb_id  \\\n",
       "7637   2007-12-14        0      103  False       0  tt1065329   \n",
       "\n",
       "     original_language      original_title overview  popularity  \\\n",
       "7637                it  Natale in crociera     None        5.52   \n",
       "\n",
       "                           poster_path  genres production_companies  \\\n",
       "7637  /n83LsfQCPReYembtNtuGwqUkUOS.jpg  Comedy             Filmauro   \n",
       "\n",
       "     production_countries spoken_languages  \n",
       "7637                Italy          Italian  "
      ]
     },
     "execution_count": 105,
     "metadata": {},
     "output_type": "execute_result"
    },
    {
     "name": "stdout",
     "output_type": "stream",
     "text": [
      "--------------------------------------------------\n",
      "Column :poster_path\n"
     ]
    },
    {
     "data": {
      "text/html": [
       "<div>\n",
       "<style scoped>\n",
       "    .dataframe tbody tr th:only-of-type {\n",
       "        vertical-align: middle;\n",
       "    }\n",
       "\n",
       "    .dataframe tbody tr th {\n",
       "        vertical-align: top;\n",
       "    }\n",
       "\n",
       "    .dataframe thead th {\n",
       "        text-align: right;\n",
       "    }\n",
       "</style>\n",
       "<table border=\"1\" class=\"dataframe\">\n",
       "  <thead>\n",
       "    <tr style=\"text-align: right;\">\n",
       "      <th></th>\n",
       "      <th>id</th>\n",
       "      <th>title</th>\n",
       "      <th>vote_average</th>\n",
       "      <th>vote_count</th>\n",
       "      <th>status</th>\n",
       "      <th>release_date</th>\n",
       "      <th>revenue</th>\n",
       "      <th>runtime</th>\n",
       "      <th>adult</th>\n",
       "      <th>budget</th>\n",
       "      <th>imdb_id</th>\n",
       "      <th>original_language</th>\n",
       "      <th>original_title</th>\n",
       "      <th>overview</th>\n",
       "      <th>popularity</th>\n",
       "      <th>poster_path</th>\n",
       "      <th>genres</th>\n",
       "      <th>production_companies</th>\n",
       "      <th>production_countries</th>\n",
       "      <th>spoken_languages</th>\n",
       "    </tr>\n",
       "  </thead>\n",
       "  <tbody>\n",
       "    <tr>\n",
       "      <th>5531</th>\n",
       "      <td>836466</td>\n",
       "      <td>Return</td>\n",
       "      <td>6.291</td>\n",
       "      <td>619</td>\n",
       "      <td>Released</td>\n",
       "      <td>2020-06-10</td>\n",
       "      <td>0</td>\n",
       "      <td>12</td>\n",
       "      <td>False</td>\n",
       "      <td>0</td>\n",
       "      <td>None</td>\n",
       "      <td>en</td>\n",
       "      <td>Return</td>\n",
       "      <td>A single man has worked most of his life in a ...</td>\n",
       "      <td>7.915</td>\n",
       "      <td>None</td>\n",
       "      <td>Animation</td>\n",
       "      <td>None</td>\n",
       "      <td>None</td>\n",
       "      <td>None</td>\n",
       "    </tr>\n",
       "  </tbody>\n",
       "</table>\n",
       "</div>"
      ],
      "text/plain": [
       "          id   title  vote_average  vote_count    status release_date  \\\n",
       "5531  836466  Return         6.291         619  Released   2020-06-10   \n",
       "\n",
       "      revenue  runtime  adult  budget imdb_id original_language  \\\n",
       "5531        0       12  False       0    None                en   \n",
       "\n",
       "     original_title                                           overview  \\\n",
       "5531         Return  A single man has worked most of his life in a ...   \n",
       "\n",
       "      popularity poster_path     genres production_companies  \\\n",
       "5531       7.915        None  Animation                 None   \n",
       "\n",
       "     production_countries spoken_languages  \n",
       "5531                 None             None  "
      ]
     },
     "execution_count": 105,
     "metadata": {},
     "output_type": "execute_result"
    },
    {
     "name": "stdout",
     "output_type": "stream",
     "text": [
      "--------------------------------------------------\n",
      "Column :genres\n"
     ]
    },
    {
     "data": {
      "text/html": [
       "<div>\n",
       "<style scoped>\n",
       "    .dataframe tbody tr th:only-of-type {\n",
       "        vertical-align: middle;\n",
       "    }\n",
       "\n",
       "    .dataframe tbody tr th {\n",
       "        vertical-align: top;\n",
       "    }\n",
       "\n",
       "    .dataframe thead th {\n",
       "        text-align: right;\n",
       "    }\n",
       "</style>\n",
       "<table border=\"1\" class=\"dataframe\">\n",
       "  <thead>\n",
       "    <tr style=\"text-align: right;\">\n",
       "      <th></th>\n",
       "      <th>id</th>\n",
       "      <th>title</th>\n",
       "      <th>vote_average</th>\n",
       "      <th>vote_count</th>\n",
       "      <th>status</th>\n",
       "      <th>release_date</th>\n",
       "      <th>revenue</th>\n",
       "      <th>runtime</th>\n",
       "      <th>adult</th>\n",
       "      <th>budget</th>\n",
       "      <th>imdb_id</th>\n",
       "      <th>original_language</th>\n",
       "      <th>original_title</th>\n",
       "      <th>overview</th>\n",
       "      <th>popularity</th>\n",
       "      <th>poster_path</th>\n",
       "      <th>genres</th>\n",
       "      <th>production_companies</th>\n",
       "      <th>production_countries</th>\n",
       "      <th>spoken_languages</th>\n",
       "    </tr>\n",
       "  </thead>\n",
       "  <tbody>\n",
       "    <tr>\n",
       "      <th>6011</th>\n",
       "      <td>320367</td>\n",
       "      <td>Return</td>\n",
       "      <td>6.223</td>\n",
       "      <td>551</td>\n",
       "      <td>Released</td>\n",
       "      <td>2015-01-01</td>\n",
       "      <td>0</td>\n",
       "      <td>0</td>\n",
       "      <td>False</td>\n",
       "      <td>0</td>\n",
       "      <td>tt4299612</td>\n",
       "      <td>en</td>\n",
       "      <td>Return</td>\n",
       "      <td>A tale of terror. Cathy Reed has been institut...</td>\n",
       "      <td>4.037</td>\n",
       "      <td>None</td>\n",
       "      <td>None</td>\n",
       "      <td>None</td>\n",
       "      <td>None</td>\n",
       "      <td>None</td>\n",
       "    </tr>\n",
       "  </tbody>\n",
       "</table>\n",
       "</div>"
      ],
      "text/plain": [
       "          id   title  vote_average  vote_count    status release_date  \\\n",
       "6011  320367  Return         6.223         551  Released   2015-01-01   \n",
       "\n",
       "      revenue  runtime  adult  budget    imdb_id original_language  \\\n",
       "6011        0        0  False       0  tt4299612                en   \n",
       "\n",
       "     original_title                                           overview  \\\n",
       "6011         Return  A tale of terror. Cathy Reed has been institut...   \n",
       "\n",
       "      popularity poster_path genres production_companies production_countries  \\\n",
       "6011       4.037        None   None                 None                 None   \n",
       "\n",
       "     spoken_languages  \n",
       "6011             None  "
      ]
     },
     "execution_count": 105,
     "metadata": {},
     "output_type": "execute_result"
    },
    {
     "name": "stdout",
     "output_type": "stream",
     "text": [
      "--------------------------------------------------\n",
      "Column :production_companies\n"
     ]
    },
    {
     "data": {
      "text/html": [
       "<div>\n",
       "<style scoped>\n",
       "    .dataframe tbody tr th:only-of-type {\n",
       "        vertical-align: middle;\n",
       "    }\n",
       "\n",
       "    .dataframe tbody tr th {\n",
       "        vertical-align: top;\n",
       "    }\n",
       "\n",
       "    .dataframe thead th {\n",
       "        text-align: right;\n",
       "    }\n",
       "</style>\n",
       "<table border=\"1\" class=\"dataframe\">\n",
       "  <thead>\n",
       "    <tr style=\"text-align: right;\">\n",
       "      <th></th>\n",
       "      <th>id</th>\n",
       "      <th>title</th>\n",
       "      <th>vote_average</th>\n",
       "      <th>vote_count</th>\n",
       "      <th>status</th>\n",
       "      <th>release_date</th>\n",
       "      <th>revenue</th>\n",
       "      <th>runtime</th>\n",
       "      <th>adult</th>\n",
       "      <th>budget</th>\n",
       "      <th>imdb_id</th>\n",
       "      <th>original_language</th>\n",
       "      <th>original_title</th>\n",
       "      <th>overview</th>\n",
       "      <th>popularity</th>\n",
       "      <th>poster_path</th>\n",
       "      <th>genres</th>\n",
       "      <th>production_companies</th>\n",
       "      <th>production_countries</th>\n",
       "      <th>spoken_languages</th>\n",
       "    </tr>\n",
       "  </thead>\n",
       "  <tbody>\n",
       "    <tr>\n",
       "      <th>3135</th>\n",
       "      <td>26736</td>\n",
       "      <td>Wizards of Waverly Place: The Movie</td>\n",
       "      <td>6.626</td>\n",
       "      <td>1325</td>\n",
       "      <td>Released</td>\n",
       "      <td>2009-08-28</td>\n",
       "      <td>0</td>\n",
       "      <td>94</td>\n",
       "      <td>False</td>\n",
       "      <td>0</td>\n",
       "      <td>tt1369845</td>\n",
       "      <td>en</td>\n",
       "      <td>Wizards of Waverly Place: The Movie</td>\n",
       "      <td>A young wizard accidentally conjures a spell t...</td>\n",
       "      <td>28.584</td>\n",
       "      <td>/reHGWHlF5tHwFQiFmsWHn9gwIpq.jpg</td>\n",
       "      <td>Family, TV Movie, Adventure, Comedy, Drama, Fa...</td>\n",
       "      <td>None</td>\n",
       "      <td>United States of America</td>\n",
       "      <td>English</td>\n",
       "    </tr>\n",
       "  </tbody>\n",
       "</table>\n",
       "</div>"
      ],
      "text/plain": [
       "         id                                title  vote_average  vote_count  \\\n",
       "3135  26736  Wizards of Waverly Place: The Movie         6.626        1325   \n",
       "\n",
       "        status release_date  revenue  runtime  adult  budget    imdb_id  \\\n",
       "3135  Released   2009-08-28        0       94  False       0  tt1369845   \n",
       "\n",
       "     original_language                       original_title  \\\n",
       "3135                en  Wizards of Waverly Place: The Movie   \n",
       "\n",
       "                                               overview  popularity  \\\n",
       "3135  A young wizard accidentally conjures a spell t...      28.584   \n",
       "\n",
       "                           poster_path  \\\n",
       "3135  /reHGWHlF5tHwFQiFmsWHn9gwIpq.jpg   \n",
       "\n",
       "                                                 genres production_companies  \\\n",
       "3135  Family, TV Movie, Adventure, Comedy, Drama, Fa...                 None   \n",
       "\n",
       "          production_countries spoken_languages  \n",
       "3135  United States of America          English  "
      ]
     },
     "execution_count": 105,
     "metadata": {},
     "output_type": "execute_result"
    },
    {
     "name": "stdout",
     "output_type": "stream",
     "text": [
      "--------------------------------------------------\n",
      "Column :production_countries\n"
     ]
    },
    {
     "data": {
      "text/html": [
       "<div>\n",
       "<style scoped>\n",
       "    .dataframe tbody tr th:only-of-type {\n",
       "        vertical-align: middle;\n",
       "    }\n",
       "\n",
       "    .dataframe tbody tr th {\n",
       "        vertical-align: top;\n",
       "    }\n",
       "\n",
       "    .dataframe thead th {\n",
       "        text-align: right;\n",
       "    }\n",
       "</style>\n",
       "<table border=\"1\" class=\"dataframe\">\n",
       "  <thead>\n",
       "    <tr style=\"text-align: right;\">\n",
       "      <th></th>\n",
       "      <th>id</th>\n",
       "      <th>title</th>\n",
       "      <th>vote_average</th>\n",
       "      <th>vote_count</th>\n",
       "      <th>status</th>\n",
       "      <th>release_date</th>\n",
       "      <th>revenue</th>\n",
       "      <th>runtime</th>\n",
       "      <th>adult</th>\n",
       "      <th>budget</th>\n",
       "      <th>imdb_id</th>\n",
       "      <th>original_language</th>\n",
       "      <th>original_title</th>\n",
       "      <th>overview</th>\n",
       "      <th>popularity</th>\n",
       "      <th>poster_path</th>\n",
       "      <th>genres</th>\n",
       "      <th>production_companies</th>\n",
       "      <th>production_countries</th>\n",
       "      <th>spoken_languages</th>\n",
       "    </tr>\n",
       "  </thead>\n",
       "  <tbody>\n",
       "    <tr>\n",
       "      <th>813</th>\n",
       "      <td>27576</td>\n",
       "      <td>Salt</td>\n",
       "      <td>6.398</td>\n",
       "      <td>5109</td>\n",
       "      <td>Released</td>\n",
       "      <td>2010-07-21</td>\n",
       "      <td>293329073</td>\n",
       "      <td>100</td>\n",
       "      <td>False</td>\n",
       "      <td>110000000</td>\n",
       "      <td>tt0944835</td>\n",
       "      <td>en</td>\n",
       "      <td>Salt</td>\n",
       "      <td>As a CIA officer, Evelyn Salt swore an oath to...</td>\n",
       "      <td>31.472</td>\n",
       "      <td>/ppXyhOe8UCEOrBRSYqE3SkHwrcR.jpg</td>\n",
       "      <td>Action, Mystery, Thriller</td>\n",
       "      <td>Wintergreen Productions, Columbia Pictures, Re...</td>\n",
       "      <td>None</td>\n",
       "      <td>English, Russian, Korean</td>\n",
       "    </tr>\n",
       "  </tbody>\n",
       "</table>\n",
       "</div>"
      ],
      "text/plain": [
       "        id title  vote_average  vote_count    status release_date    revenue  \\\n",
       "813  27576  Salt         6.398        5109  Released   2010-07-21  293329073   \n",
       "\n",
       "     runtime  adult     budget    imdb_id original_language original_title  \\\n",
       "813      100  False  110000000  tt0944835                en           Salt   \n",
       "\n",
       "                                              overview  popularity  \\\n",
       "813  As a CIA officer, Evelyn Salt swore an oath to...      31.472   \n",
       "\n",
       "                          poster_path                     genres  \\\n",
       "813  /ppXyhOe8UCEOrBRSYqE3SkHwrcR.jpg  Action, Mystery, Thriller   \n",
       "\n",
       "                                  production_companies production_countries  \\\n",
       "813  Wintergreen Productions, Columbia Pictures, Re...                 None   \n",
       "\n",
       "             spoken_languages  \n",
       "813  English, Russian, Korean  "
      ]
     },
     "execution_count": 105,
     "metadata": {},
     "output_type": "execute_result"
    },
    {
     "name": "stdout",
     "output_type": "stream",
     "text": [
      "--------------------------------------------------\n",
      "Column :spoken_languages\n"
     ]
    },
    {
     "data": {
      "text/html": [
       "<div>\n",
       "<style scoped>\n",
       "    .dataframe tbody tr th:only-of-type {\n",
       "        vertical-align: middle;\n",
       "    }\n",
       "\n",
       "    .dataframe tbody tr th {\n",
       "        vertical-align: top;\n",
       "    }\n",
       "\n",
       "    .dataframe thead th {\n",
       "        text-align: right;\n",
       "    }\n",
       "</style>\n",
       "<table border=\"1\" class=\"dataframe\">\n",
       "  <thead>\n",
       "    <tr style=\"text-align: right;\">\n",
       "      <th></th>\n",
       "      <th>id</th>\n",
       "      <th>title</th>\n",
       "      <th>vote_average</th>\n",
       "      <th>vote_count</th>\n",
       "      <th>status</th>\n",
       "      <th>release_date</th>\n",
       "      <th>revenue</th>\n",
       "      <th>runtime</th>\n",
       "      <th>adult</th>\n",
       "      <th>budget</th>\n",
       "      <th>imdb_id</th>\n",
       "      <th>original_language</th>\n",
       "      <th>original_title</th>\n",
       "      <th>overview</th>\n",
       "      <th>popularity</th>\n",
       "      <th>poster_path</th>\n",
       "      <th>genres</th>\n",
       "      <th>production_companies</th>\n",
       "      <th>production_countries</th>\n",
       "      <th>spoken_languages</th>\n",
       "    </tr>\n",
       "  </thead>\n",
       "  <tbody>\n",
       "    <tr>\n",
       "      <th>1827</th>\n",
       "      <td>594767</td>\n",
       "      <td>Shazam! Fury of the Gods</td>\n",
       "      <td>6.662</td>\n",
       "      <td>2416</td>\n",
       "      <td>Released</td>\n",
       "      <td>2023-03-15</td>\n",
       "      <td>133437105</td>\n",
       "      <td>130</td>\n",
       "      <td>False</td>\n",
       "      <td>125000000</td>\n",
       "      <td>tt10151854</td>\n",
       "      <td>en</td>\n",
       "      <td>Shazam! Fury of the Gods</td>\n",
       "      <td>Billy Batson and his foster siblings, who tran...</td>\n",
       "      <td>143.169</td>\n",
       "      <td>/A3ZbZsmsvNGdprRi2lKgGEeVLEH.jpg</td>\n",
       "      <td>Comedy, Action, Fantasy</td>\n",
       "      <td>New Line Cinema, The Safran Company, DC Films</td>\n",
       "      <td>United States of America</td>\n",
       "      <td>None</td>\n",
       "    </tr>\n",
       "  </tbody>\n",
       "</table>\n",
       "</div>"
      ],
      "text/plain": [
       "          id                     title  vote_average  vote_count    status  \\\n",
       "1827  594767  Shazam! Fury of the Gods         6.662        2416  Released   \n",
       "\n",
       "     release_date    revenue  runtime  adult     budget     imdb_id  \\\n",
       "1827   2023-03-15  133437105      130  False  125000000  tt10151854   \n",
       "\n",
       "     original_language            original_title  \\\n",
       "1827                en  Shazam! Fury of the Gods   \n",
       "\n",
       "                                               overview  popularity  \\\n",
       "1827  Billy Batson and his foster siblings, who tran...     143.169   \n",
       "\n",
       "                           poster_path                   genres  \\\n",
       "1827  /A3ZbZsmsvNGdprRi2lKgGEeVLEH.jpg  Comedy, Action, Fantasy   \n",
       "\n",
       "                               production_companies      production_countries  \\\n",
       "1827  New Line Cinema, The Safran Company, DC Films  United States of America   \n",
       "\n",
       "     spoken_languages  \n",
       "1827             None  "
      ]
     },
     "execution_count": 105,
     "metadata": {},
     "output_type": "execute_result"
    },
    {
     "name": "stdout",
     "output_type": "stream",
     "text": [
      "--------------------------------------------------\n"
     ]
    }
   ],
   "source": [
    "for col in missing_cols:\n",
    "    print(f\"Column :{col}\")\n",
    "    df[df[col].isna()].iloc[[0]]\n",
    "    print(\"-\" * 50)"
   ]
  },
  {
   "cell_type": "markdown",
   "metadata": {},
   "source": [
    "## Missing Values"
   ]
  },
  {
   "cell_type": "code",
   "execution_count": 106,
   "metadata": {},
   "outputs": [],
   "source": [
    "# Handle missing values\n",
    "df['genres'] = df['genres'].fillna('Unknown')\n",
    "df['production_companies'] = df['production_companies'].fillna('Unknown')\n",
    "df['production_countries'] = df['production_countries'].fillna('Unknown')\n",
    "df['spoken_languages'] = df['spoken_languages'].fillna('Unknown')\n",
    "df['title'] = df['title'].fillna('Untitled')\n",
    "df['original_title'] = df['original_title'].fillna('Untitled')\n",
    "df['imdb_id'] = df['imdb_id'].fillna('Unknown')\n",
    "df['overview'] = df['overview'].fillna('Unknown')\n",
    "df['poster_path'] = df['poster_path'].fillna('Unknown')\n",
    "df['release_date'] = pd.to_datetime(df['release_date'], errors='coerce')"
   ]
  },
  {
   "cell_type": "code",
   "execution_count": 107,
   "metadata": {},
   "outputs": [
    {
     "data": {
      "text/html": [
       "<div>\n",
       "<style scoped>\n",
       "    .dataframe tbody tr th:only-of-type {\n",
       "        vertical-align: middle;\n",
       "    }\n",
       "\n",
       "    .dataframe tbody tr th {\n",
       "        vertical-align: top;\n",
       "    }\n",
       "\n",
       "    .dataframe thead th {\n",
       "        text-align: right;\n",
       "    }\n",
       "</style>\n",
       "<table border=\"1\" class=\"dataframe\">\n",
       "  <thead>\n",
       "    <tr style=\"text-align: right;\">\n",
       "      <th></th>\n",
       "      <th>cols</th>\n",
       "      <th>val</th>\n",
       "    </tr>\n",
       "  </thead>\n",
       "  <tbody>\n",
       "    <tr>\n",
       "      <th>0</th>\n",
       "      <td>id</td>\n",
       "      <td>0</td>\n",
       "    </tr>\n",
       "    <tr>\n",
       "      <th>1</th>\n",
       "      <td>title</td>\n",
       "      <td>0</td>\n",
       "    </tr>\n",
       "    <tr>\n",
       "      <th>2</th>\n",
       "      <td>vote_average</td>\n",
       "      <td>0</td>\n",
       "    </tr>\n",
       "    <tr>\n",
       "      <th>3</th>\n",
       "      <td>vote_count</td>\n",
       "      <td>0</td>\n",
       "    </tr>\n",
       "    <tr>\n",
       "      <th>4</th>\n",
       "      <td>status</td>\n",
       "      <td>0</td>\n",
       "    </tr>\n",
       "    <tr>\n",
       "      <th>5</th>\n",
       "      <td>release_date</td>\n",
       "      <td>192207</td>\n",
       "    </tr>\n",
       "    <tr>\n",
       "      <th>6</th>\n",
       "      <td>revenue</td>\n",
       "      <td>0</td>\n",
       "    </tr>\n",
       "    <tr>\n",
       "      <th>7</th>\n",
       "      <td>runtime</td>\n",
       "      <td>0</td>\n",
       "    </tr>\n",
       "    <tr>\n",
       "      <th>8</th>\n",
       "      <td>adult</td>\n",
       "      <td>0</td>\n",
       "    </tr>\n",
       "    <tr>\n",
       "      <th>9</th>\n",
       "      <td>budget</td>\n",
       "      <td>0</td>\n",
       "    </tr>\n",
       "    <tr>\n",
       "      <th>10</th>\n",
       "      <td>imdb_id</td>\n",
       "      <td>0</td>\n",
       "    </tr>\n",
       "    <tr>\n",
       "      <th>11</th>\n",
       "      <td>original_language</td>\n",
       "      <td>0</td>\n",
       "    </tr>\n",
       "    <tr>\n",
       "      <th>12</th>\n",
       "      <td>original_title</td>\n",
       "      <td>0</td>\n",
       "    </tr>\n",
       "    <tr>\n",
       "      <th>13</th>\n",
       "      <td>overview</td>\n",
       "      <td>0</td>\n",
       "    </tr>\n",
       "    <tr>\n",
       "      <th>14</th>\n",
       "      <td>popularity</td>\n",
       "      <td>0</td>\n",
       "    </tr>\n",
       "    <tr>\n",
       "      <th>15</th>\n",
       "      <td>poster_path</td>\n",
       "      <td>0</td>\n",
       "    </tr>\n",
       "    <tr>\n",
       "      <th>16</th>\n",
       "      <td>genres</td>\n",
       "      <td>0</td>\n",
       "    </tr>\n",
       "    <tr>\n",
       "      <th>17</th>\n",
       "      <td>production_companies</td>\n",
       "      <td>0</td>\n",
       "    </tr>\n",
       "    <tr>\n",
       "      <th>18</th>\n",
       "      <td>production_countries</td>\n",
       "      <td>0</td>\n",
       "    </tr>\n",
       "    <tr>\n",
       "      <th>19</th>\n",
       "      <td>spoken_languages</td>\n",
       "      <td>0</td>\n",
       "    </tr>\n",
       "  </tbody>\n",
       "</table>\n",
       "</div>"
      ],
      "text/plain": [
       "                    cols     val\n",
       "0                     id       0\n",
       "1                  title       0\n",
       "2           vote_average       0\n",
       "3             vote_count       0\n",
       "4                 status       0\n",
       "5           release_date  192207\n",
       "6                revenue       0\n",
       "7                runtime       0\n",
       "8                  adult       0\n",
       "9                 budget       0\n",
       "10               imdb_id       0\n",
       "11     original_language       0\n",
       "12        original_title       0\n",
       "13              overview       0\n",
       "14            popularity       0\n",
       "15           poster_path       0\n",
       "16                genres       0\n",
       "17  production_companies       0\n",
       "18  production_countries       0\n",
       "19      spoken_languages       0"
      ]
     },
     "execution_count": 107,
     "metadata": {},
     "output_type": "execute_result"
    },
    {
     "data": {
      "text/html": [
       "<div>\n",
       "<style scoped>\n",
       "    .dataframe tbody tr th:only-of-type {\n",
       "        vertical-align: middle;\n",
       "    }\n",
       "\n",
       "    .dataframe tbody tr th {\n",
       "        vertical-align: top;\n",
       "    }\n",
       "\n",
       "    .dataframe thead th {\n",
       "        text-align: right;\n",
       "    }\n",
       "</style>\n",
       "<table border=\"1\" class=\"dataframe\">\n",
       "  <thead>\n",
       "    <tr style=\"text-align: right;\">\n",
       "      <th></th>\n",
       "      <th>cols</th>\n",
       "      <th>val</th>\n",
       "    </tr>\n",
       "  </thead>\n",
       "  <tbody>\n",
       "    <tr>\n",
       "      <th>5</th>\n",
       "      <td>release_date</td>\n",
       "      <td>192207</td>\n",
       "    </tr>\n",
       "  </tbody>\n",
       "</table>\n",
       "</div>"
      ],
      "text/plain": [
       "           cols     val\n",
       "5  release_date  192207"
      ]
     },
     "execution_count": 107,
     "metadata": {},
     "output_type": "execute_result"
    }
   ],
   "source": [
    "# Identify columns with missing values\n",
    "missing = df.isna().sum().to_frame(name='val').reset_index(names='cols')\n",
    "missing\n",
    "\n",
    "# Missing cols\n",
    "missing_cols = missing[missing['val'] > 0]\n",
    "missing_cols"
   ]
  },
  {
   "cell_type": "code",
   "execution_count": 108,
   "metadata": {},
   "outputs": [
    {
     "data": {
      "text/plain": [
       "15540     NaT\n",
       "15897     NaT\n",
       "30049     NaT\n",
       "33644     NaT\n",
       "33647     NaT\n",
       "           ..\n",
       "1149748   NaT\n",
       "1149750   NaT\n",
       "1149752   NaT\n",
       "1149754   NaT\n",
       "1149755   NaT\n",
       "Name: release_date, Length: 192207, dtype: datetime64[ns]"
      ]
     },
     "execution_count": 108,
     "metadata": {},
     "output_type": "execute_result"
    }
   ],
   "source": [
    "# Checking release_date\n",
    "df[df['release_date'].isna()]['release_date']\n",
    "#  Drop Rows with NaT Values\n",
    "df = df.dropna(subset=['release_date'])"
   ]
  },
  {
   "cell_type": "code",
   "execution_count": 109,
   "metadata": {},
   "outputs": [
    {
     "data": {
      "text/html": [
       "<div>\n",
       "<style scoped>\n",
       "    .dataframe tbody tr th:only-of-type {\n",
       "        vertical-align: middle;\n",
       "    }\n",
       "\n",
       "    .dataframe tbody tr th {\n",
       "        vertical-align: top;\n",
       "    }\n",
       "\n",
       "    .dataframe thead th {\n",
       "        text-align: right;\n",
       "    }\n",
       "</style>\n",
       "<table border=\"1\" class=\"dataframe\">\n",
       "  <thead>\n",
       "    <tr style=\"text-align: right;\">\n",
       "      <th></th>\n",
       "      <th>cols</th>\n",
       "      <th>val</th>\n",
       "    </tr>\n",
       "  </thead>\n",
       "  <tbody>\n",
       "    <tr>\n",
       "      <th>0</th>\n",
       "      <td>id</td>\n",
       "      <td>0</td>\n",
       "    </tr>\n",
       "    <tr>\n",
       "      <th>1</th>\n",
       "      <td>title</td>\n",
       "      <td>0</td>\n",
       "    </tr>\n",
       "    <tr>\n",
       "      <th>2</th>\n",
       "      <td>vote_average</td>\n",
       "      <td>0</td>\n",
       "    </tr>\n",
       "    <tr>\n",
       "      <th>3</th>\n",
       "      <td>vote_count</td>\n",
       "      <td>0</td>\n",
       "    </tr>\n",
       "    <tr>\n",
       "      <th>4</th>\n",
       "      <td>status</td>\n",
       "      <td>0</td>\n",
       "    </tr>\n",
       "    <tr>\n",
       "      <th>5</th>\n",
       "      <td>release_date</td>\n",
       "      <td>0</td>\n",
       "    </tr>\n",
       "    <tr>\n",
       "      <th>6</th>\n",
       "      <td>revenue</td>\n",
       "      <td>0</td>\n",
       "    </tr>\n",
       "    <tr>\n",
       "      <th>7</th>\n",
       "      <td>runtime</td>\n",
       "      <td>0</td>\n",
       "    </tr>\n",
       "    <tr>\n",
       "      <th>8</th>\n",
       "      <td>adult</td>\n",
       "      <td>0</td>\n",
       "    </tr>\n",
       "    <tr>\n",
       "      <th>9</th>\n",
       "      <td>budget</td>\n",
       "      <td>0</td>\n",
       "    </tr>\n",
       "    <tr>\n",
       "      <th>10</th>\n",
       "      <td>imdb_id</td>\n",
       "      <td>0</td>\n",
       "    </tr>\n",
       "    <tr>\n",
       "      <th>11</th>\n",
       "      <td>original_language</td>\n",
       "      <td>0</td>\n",
       "    </tr>\n",
       "    <tr>\n",
       "      <th>12</th>\n",
       "      <td>original_title</td>\n",
       "      <td>0</td>\n",
       "    </tr>\n",
       "    <tr>\n",
       "      <th>13</th>\n",
       "      <td>overview</td>\n",
       "      <td>0</td>\n",
       "    </tr>\n",
       "    <tr>\n",
       "      <th>14</th>\n",
       "      <td>popularity</td>\n",
       "      <td>0</td>\n",
       "    </tr>\n",
       "    <tr>\n",
       "      <th>15</th>\n",
       "      <td>poster_path</td>\n",
       "      <td>0</td>\n",
       "    </tr>\n",
       "    <tr>\n",
       "      <th>16</th>\n",
       "      <td>genres</td>\n",
       "      <td>0</td>\n",
       "    </tr>\n",
       "    <tr>\n",
       "      <th>17</th>\n",
       "      <td>production_companies</td>\n",
       "      <td>0</td>\n",
       "    </tr>\n",
       "    <tr>\n",
       "      <th>18</th>\n",
       "      <td>production_countries</td>\n",
       "      <td>0</td>\n",
       "    </tr>\n",
       "    <tr>\n",
       "      <th>19</th>\n",
       "      <td>spoken_languages</td>\n",
       "      <td>0</td>\n",
       "    </tr>\n",
       "  </tbody>\n",
       "</table>\n",
       "</div>"
      ],
      "text/plain": [
       "                    cols  val\n",
       "0                     id    0\n",
       "1                  title    0\n",
       "2           vote_average    0\n",
       "3             vote_count    0\n",
       "4                 status    0\n",
       "5           release_date    0\n",
       "6                revenue    0\n",
       "7                runtime    0\n",
       "8                  adult    0\n",
       "9                 budget    0\n",
       "10               imdb_id    0\n",
       "11     original_language    0\n",
       "12        original_title    0\n",
       "13              overview    0\n",
       "14            popularity    0\n",
       "15           poster_path    0\n",
       "16                genres    0\n",
       "17  production_companies    0\n",
       "18  production_countries    0\n",
       "19      spoken_languages    0"
      ]
     },
     "execution_count": 109,
     "metadata": {},
     "output_type": "execute_result"
    },
    {
     "data": {
      "text/html": [
       "<div>\n",
       "<style scoped>\n",
       "    .dataframe tbody tr th:only-of-type {\n",
       "        vertical-align: middle;\n",
       "    }\n",
       "\n",
       "    .dataframe tbody tr th {\n",
       "        vertical-align: top;\n",
       "    }\n",
       "\n",
       "    .dataframe thead th {\n",
       "        text-align: right;\n",
       "    }\n",
       "</style>\n",
       "<table border=\"1\" class=\"dataframe\">\n",
       "  <thead>\n",
       "    <tr style=\"text-align: right;\">\n",
       "      <th></th>\n",
       "      <th>cols</th>\n",
       "      <th>val</th>\n",
       "    </tr>\n",
       "  </thead>\n",
       "  <tbody>\n",
       "  </tbody>\n",
       "</table>\n",
       "</div>"
      ],
      "text/plain": [
       "Empty DataFrame\n",
       "Columns: [cols, val]\n",
       "Index: []"
      ]
     },
     "execution_count": 109,
     "metadata": {},
     "output_type": "execute_result"
    }
   ],
   "source": [
    "# Identify columns with missing values\n",
    "missing = df.isna().sum().to_frame(name='val').reset_index(names='cols')\n",
    "missing\n",
    "\n",
    "# Missing cols\n",
    "missing_cols = missing[missing['val'] > 0]\n",
    "missing_cols"
   ]
  },
  {
   "cell_type": "markdown",
   "metadata": {},
   "source": [
    "# Feature Creation"
   ]
  },
  {
   "cell_type": "code",
   "execution_count": 110,
   "metadata": {},
   "outputs": [],
   "source": [
    "# Extract new features\n",
    "df.loc[:, 'release_year'] = df['release_date'].dt.year\n",
    "df.loc[:, 'release_month'] = df['release_date'].dt.month\n",
    "df.loc[:, 'release_day'] = df['release_date'].dt.day\n",
    "\n",
    "# Optimize data types with .loc\n",
    "df.loc[:, 'original_language'] = df['original_language'].astype('category')\n",
    "df.loc[:, 'genres'] = df['genres'].astype('category')\n",
    "df.loc[:, 'status'] = df['status'].astype('category')"
   ]
  },
  {
   "cell_type": "code",
   "execution_count": 11,
   "metadata": {},
   "outputs": [],
   "source": [
    "# Create new columns for revenue, budget, profit, profitability_ratio in million USD\n",
    "df['revenue_musd'] = df['revenue'] / 1_000_000\n",
    "df['budget_musd'] = df['budget'] / 1_000_000\n",
    "df['profit_musd'] =  df['revenue_musd'] - df['budget_musd']\n",
    "df['profitability_ratio'] = df['revenue_musd'] / df['budget_musd']"
   ]
  },
  {
   "cell_type": "code",
   "execution_count": 12,
   "metadata": {},
   "outputs": [],
   "source": [
    "df.to_parquet(\"TMDB_movie_dataset_v11_cleaned.parquet\")"
   ]
  },
  {
   "cell_type": "markdown",
   "metadata": {},
   "source": [
    "# EDA"
   ]
  },
  {
   "cell_type": "code",
   "execution_count": 4,
   "metadata": {},
   "outputs": [],
   "source": [
    "import pandas as pd\n",
    "import numpy as np\n",
    "import matplotlib.pyplot as plt\n",
    "import seaborn as sns\n",
    "import plotly.express as px"
   ]
  },
  {
   "cell_type": "code",
   "execution_count": 13,
   "metadata": {},
   "outputs": [],
   "source": [
    "df = pd.read_parquet(\"TMDB_movie_dataset_v11_cleaned.parquet\")"
   ]
  },
  {
   "cell_type": "code",
   "execution_count": 19,
   "metadata": {},
   "outputs": [
    {
     "data": {
      "text/plain": [
       "(956817, 27)"
      ]
     },
     "execution_count": 19,
     "metadata": {},
     "output_type": "execute_result"
    }
   ],
   "source": [
    "df.shape"
   ]
  },
  {
   "cell_type": "markdown",
   "metadata": {},
   "source": [
    "## Movie Release Trend Over the Years"
   ]
  },
  {
   "cell_type": "code",
   "execution_count": 14,
   "metadata": {},
   "outputs": [
    {
     "data": {
      "text/plain": [
       "release_year\n",
       "1800    2\n",
       "1837    1\n",
       "1865    3\n",
       "1867    1\n",
       "1874    1\n",
       "       ..\n",
       "2055    1\n",
       "2057    1\n",
       "2061    1\n",
       "2074    1\n",
       "2099    1\n",
       "Name: count, Length: 164, dtype: int64"
      ]
     },
     "execution_count": 14,
     "metadata": {},
     "output_type": "execute_result"
    },
    {
     "data": {
      "text/plain": [
       "release_year\n",
       "2026    68\n",
       "2027    23\n",
       "2029     9\n",
       "2028     7\n",
       "2030     4\n",
       "2031     2\n",
       "2034     2\n",
       "2037     1\n",
       "2074     1\n",
       "2032     1\n",
       "2061     1\n",
       "2055     1\n",
       "2057     1\n",
       "2040     1\n",
       "2043     1\n",
       "2099     1\n",
       "Name: count, dtype: int64"
      ]
     },
     "execution_count": 14,
     "metadata": {},
     "output_type": "execute_result"
    },
    {
     "data": {
      "text/plain": [
       "<Figure size 1200x600 with 0 Axes>"
      ]
     },
     "execution_count": 14,
     "metadata": {},
     "output_type": "execute_result"
    },
    {
     "data": {
      "text/plain": [
       "<Axes: xlabel='release_year'>"
      ]
     },
     "execution_count": 14,
     "metadata": {},
     "output_type": "execute_result"
    },
    {
     "data": {
      "text/plain": [
       "Text(0.5, 1.0, 'Movie Releases Over the Years')"
      ]
     },
     "execution_count": 14,
     "metadata": {},
     "output_type": "execute_result"
    },
    {
     "data": {
      "text/plain": [
       "Text(0.5, 0, 'Year')"
      ]
     },
     "execution_count": 14,
     "metadata": {},
     "output_type": "execute_result"
    },
    {
     "data": {
      "text/plain": [
       "Text(0, 0.5, 'Number of Movies')"
      ]
     },
     "execution_count": 14,
     "metadata": {},
     "output_type": "execute_result"
    },
    {
     "data": {
      "text/plain": [
       "(array([1750., 1800., 1850., 1900., 1950., 2000., 2050., 2100., 2150.]),\n",
       " [Text(1750.0, 0, '1750'),\n",
       "  Text(1800.0, 0, '1800'),\n",
       "  Text(1850.0, 0, '1850'),\n",
       "  Text(1900.0, 0, '1900'),\n",
       "  Text(1950.0, 0, '1950'),\n",
       "  Text(2000.0, 0, '2000'),\n",
       "  Text(2050.0, 0, '2050'),\n",
       "  Text(2100.0, 0, '2100'),\n",
       "  Text(2150.0, 0, '2150')])"
      ]
     },
     "execution_count": 14,
     "metadata": {},
     "output_type": "execute_result"
    },
    {
     "data": {
      "image/png": "[encoded data removed]",
      "text/plain": [
       "<Figure size 1200x600 with 1 Axes>"
      ]
     },
     "metadata": {},
     "output_type": "display_data"
    }
   ],
   "source": [
    "# Movie release trend over the years\n",
    "df['release_year'].value_counts().sort_index()\n",
    "df[df['release_year'] > 2025]['release_year'].value_counts()\n",
    "\n",
    "releases = df['release_year'].value_counts().sort_index()\n",
    "plt.figure(figsize=(12,6))\n",
    "\n",
    "sns.lineplot(x=releases.index,\n",
    "             y=releases.values)\n",
    "\n",
    "plt.title('Movie Releases Over the Years')\n",
    "plt.xlabel('Year')\n",
    "plt.ylabel('Number of Movies')\n",
    "plt.xticks(rotation=45)\n",
    "plt.show()"
   ]
  },
  {
   "cell_type": "markdown",
   "metadata": {},
   "source": [
    "## Revenue vs. Budget"
   ]
  },
  {
   "cell_type": "code",
   "execution_count": 15,
   "metadata": {},
   "outputs": [
    {
     "data": {
      "text/plain": [
       "<Figure size 1200x600 with 0 Axes>"
      ]
     },
     "execution_count": 15,
     "metadata": {},
     "output_type": "execute_result"
    },
    {
     "data": {
      "text/plain": [
       "<Axes: xlabel='budget_musd', ylabel='revenue_musd'>"
      ]
     },
     "execution_count": 15,
     "metadata": {},
     "output_type": "execute_result"
    },
    {
     "data": {
      "text/plain": [
       "Text(0.5, 1.0, 'Revenue  vs. Budget')"
      ]
     },
     "execution_count": 15,
     "metadata": {},
     "output_type": "execute_result"
    },
    {
     "data": {
      "text/plain": [
       "Text(0.5, 0, 'Budget (million USD)')"
      ]
     },
     "execution_count": 15,
     "metadata": {},
     "output_type": "execute_result"
    },
    {
     "data": {
      "text/plain": [
       "Text(0, 0.5, 'Revenue (million USD)')"
      ]
     },
     "execution_count": 15,
     "metadata": {},
     "output_type": "execute_result"
    },
    {
     "data": {
      "text/plain": [
       "(array([-200.,    0.,  200.,  400.,  600.,  800., 1000.]),\n",
       " [Text(-200.0, 0, '−200'),\n",
       "  Text(0.0, 0, '0'),\n",
       "  Text(200.0, 0, '200'),\n",
       "  Text(400.0, 0, '400'),\n",
       "  Text(600.0, 0, '600'),\n",
       "  Text(800.0, 0, '800'),\n",
       "  Text(1000.0, 0, '1000')])"
      ]
     },
     "execution_count": 15,
     "metadata": {},
     "output_type": "execute_result"
    },
    {
     "data": {
      "image/png": "[encoded data removed]",
      "text/plain": [
       "<Figure size 1200x600 with 1 Axes>"
      ]
     },
     "metadata": {},
     "output_type": "display_data"
    }
   ],
   "source": [
    "# Revenue vs. Budget\n",
    "plt.figure(figsize=(12,6))\n",
    "sns.scatterplot(x='budget_musd',\n",
    "                y='revenue_musd',\n",
    "                data=df,\n",
    "                alpha=0.6)\n",
    "\n",
    "plt.title('Revenue  vs. Budget')\n",
    "plt.xlabel('Budget (million USD)')\n",
    "plt.ylabel('Revenue (million USD)')\n",
    "plt.xticks(rotation=45)\n",
    "plt.show()"
   ]
  },
  {
   "cell_type": "markdown",
   "metadata": {},
   "source": [
    "## Genre Distribution"
   ]
  },
  {
   "cell_type": "code",
   "execution_count": 16,
   "metadata": {},
   "outputs": [
    {
     "data": {
      "text/plain": [
       "<Figure size 1200x600 with 0 Axes>"
      ]
     },
     "execution_count": 16,
     "metadata": {},
     "output_type": "execute_result"
    },
    {
     "data": {
      "text/plain": [
       "<Axes: xlabel='genres'>"
      ]
     },
     "execution_count": 16,
     "metadata": {},
     "output_type": "execute_result"
    },
    {
     "data": {
      "text/plain": [
       "Text(0.5, 1.0, 'Genre Distribution')"
      ]
     },
     "execution_count": 16,
     "metadata": {},
     "output_type": "execute_result"
    },
    {
     "data": {
      "text/plain": [
       "([0,\n",
       "  1,\n",
       "  2,\n",
       "  3,\n",
       "  4,\n",
       "  5,\n",
       "  6,\n",
       "  7,\n",
       "  8,\n",
       "  9,\n",
       "  10,\n",
       "  11,\n",
       "  12,\n",
       "  13,\n",
       "  14,\n",
       "  15,\n",
       "  16,\n",
       "  17,\n",
       "  18,\n",
       "  19,\n",
       "  20,\n",
       "  21,\n",
       "  22,\n",
       "  23,\n",
       "  24,\n",
       "  25,\n",
       "  26,\n",
       "  27,\n",
       "  28,\n",
       "  29,\n",
       "  30,\n",
       "  31,\n",
       "  32,\n",
       "  33,\n",
       "  34,\n",
       "  35,\n",
       "  36,\n",
       "  37],\n",
       " [Text(0, 0, 'Drama'),\n",
       "  Text(1, 0, 'Documentary'),\n",
       "  Text(2, 0, 'Comedy'),\n",
       "  Text(3, 0, ' Drama'),\n",
       "  Text(4, 0, 'Animation'),\n",
       "  Text(5, 0, ' Comedy'),\n",
       "  Text(6, 0, 'Horror'),\n",
       "  Text(7, 0, ' Romance'),\n",
       "  Text(8, 0, 'Music'),\n",
       "  Text(9, 0, 'Action'),\n",
       "  Text(10, 0, ' Thriller'),\n",
       "  Text(11, 0, 'Romance'),\n",
       "  Text(12, 0, ' Crime'),\n",
       "  Text(13, 0, ' TV Movie'),\n",
       "  Text(14, 0, ' Family'),\n",
       "  Text(15, 0, 'Thriller'),\n",
       "  Text(16, 0, ' Music'),\n",
       "  Text(17, 0, ' Horror'),\n",
       "  Text(18, 0, 'Crime'),\n",
       "  Text(19, 0, ' Fantasy'),\n",
       "  Text(20, 0, ' Action'),\n",
       "  Text(21, 0, ' Adventure'),\n",
       "  Text(22, 0, ' Mystery'),\n",
       "  Text(23, 0, ' History'),\n",
       "  Text(24, 0, ' Science Fiction'),\n",
       "  Text(25, 0, 'Family'),\n",
       "  Text(26, 0, ' Documentary'),\n",
       "  Text(27, 0, 'Adventure'),\n",
       "  Text(28, 0, ' Animation'),\n",
       "  Text(29, 0, 'Science Fiction'),\n",
       "  Text(30, 0, 'Fantasy'),\n",
       "  Text(31, 0, ' War'),\n",
       "  Text(32, 0, 'Western'),\n",
       "  Text(33, 0, 'TV Movie'),\n",
       "  Text(34, 0, 'Mystery'),\n",
       "  Text(35, 0, 'History'),\n",
       "  Text(36, 0, 'War'),\n",
       "  Text(37, 0, ' Western')])"
      ]
     },
     "execution_count": 16,
     "metadata": {},
     "output_type": "execute_result"
    },
    {
     "data": {
      "text/plain": [
       "Text(0.5, 0, 'Genre')"
      ]
     },
     "execution_count": 16,
     "metadata": {},
     "output_type": "execute_result"
    },
    {
     "data": {
      "text/plain": [
       "Text(0, 0.5, 'Count')"
      ]
     },
     "execution_count": 16,
     "metadata": {},
     "output_type": "execute_result"
    },
    {
     "data": {
      "image/png": "[encoded data removed]",
      "text/plain": [
       "<Figure size 1200x600 with 1 Axes>"
      ]
     },
     "metadata": {},
     "output_type": "display_data"
    }
   ],
   "source": [
    "genre_count = df['genres'].str.split(',').explode().value_counts()\n",
    "genre_count = genre_count.drop(index='Unknown')\n",
    "plt.figure(figsize=(12, 6))\n",
    "sns.barplot(x=genre_count.index, y=genre_count.values)\n",
    "plt.title('Genre Distribution')\n",
    "plt.xticks(rotation=90)\n",
    "plt.xlabel('Genre')\n",
    "plt.ylabel('Count')\n",
    "plt.show()"
   ]
  },
  {
   "cell_type": "markdown",
   "metadata": {},
   "source": [
    "### Genre vs Total Revenue"
   ]
  },
  {
   "cell_type": "code",
   "execution_count": 40,
   "metadata": {},
   "outputs": [],
   "source": [
    "# Split genres into a list of genres\n",
    "df['genres_list'] = df['genres'].str.split(',')\n",
    "\n",
    "# # Explode the list into separate rows\n",
    "df_exploded = df.explode('genres_list')\n",
    "\n",
    "# # Rename for clarity\n",
    "df_exploded.rename(columns={'genres_list': 'genre'}, inplace=True)\n"
   ]
  },
  {
   "cell_type": "code",
   "execution_count": 41,
   "metadata": {},
   "outputs": [],
   "source": [
    "# Calculate total and average revenue for each genre\n",
    "genre_revenue = df_exploded.groupby('genre')['revenue_musd'].agg(['sum', 'mean', 'count']).reset_index()\n",
    "\n",
    "# Sort by total revenue for better visualization\n",
    "genre_revenue = genre_revenue.sort_values(by='sum', ascending=False)\n"
   ]
  },
  {
   "cell_type": "code",
   "execution_count": 44,
   "metadata": {},
   "outputs": [
    {
     "data": {
      "text/plain": [
       "<Figure size 1200x600 with 0 Axes>"
      ]
     },
     "execution_count": 44,
     "metadata": {},
     "output_type": "execute_result"
    },
    {
     "name": "stderr",
     "output_type": "stream",
     "text": [
      "C:\\Users\\Matthew\\AppData\\Local\\Temp\\ipykernel_18704\\1142813945.py:2: FutureWarning: \n",
      "\n",
      "Passing `palette` without assigning `hue` is deprecated and will be removed in v0.14.0. Assign the `x` variable to `hue` and set `legend=False` for the same effect.\n",
      "\n",
      "  sns.barplot(data=genre_revenue, x='genre', y='sum', palette='viridis')\n"
     ]
    },
    {
     "data": {
      "text/plain": [
       "<Axes: xlabel='genre', ylabel='sum'>"
      ]
     },
     "execution_count": 44,
     "metadata": {},
     "output_type": "execute_result"
    },
    {
     "data": {
      "text/plain": [
       "([0,\n",
       "  1,\n",
       "  2,\n",
       "  3,\n",
       "  4,\n",
       "  5,\n",
       "  6,\n",
       "  7,\n",
       "  8,\n",
       "  9,\n",
       "  10,\n",
       "  11,\n",
       "  12,\n",
       "  13,\n",
       "  14,\n",
       "  15,\n",
       "  16,\n",
       "  17,\n",
       "  18,\n",
       "  19,\n",
       "  20,\n",
       "  21,\n",
       "  22,\n",
       "  23,\n",
       "  24,\n",
       "  25,\n",
       "  26,\n",
       "  27,\n",
       "  28,\n",
       "  29,\n",
       "  30,\n",
       "  31,\n",
       "  32,\n",
       "  33,\n",
       "  34,\n",
       "  35,\n",
       "  36,\n",
       "  37,\n",
       "  38],\n",
       " [Text(0, 0, ' Adventure'),\n",
       "  Text(1, 0, 'Action'),\n",
       "  Text(2, 0, ' Comedy'),\n",
       "  Text(3, 0, ' Thriller'),\n",
       "  Text(4, 0, ' Action'),\n",
       "  Text(5, 0, ' Drama'),\n",
       "  Text(6, 0, ' Fantasy'),\n",
       "  Text(7, 0, ' Science Fiction'),\n",
       "  Text(8, 0, ' Family'),\n",
       "  Text(9, 0, 'Comedy'),\n",
       "  Text(10, 0, 'Adventure'),\n",
       "  Text(11, 0, 'Drama'),\n",
       "  Text(12, 0, ' Romance'),\n",
       "  Text(13, 0, ' Crime'),\n",
       "  Text(14, 0, 'Animation'),\n",
       "  Text(15, 0, ' Mystery'),\n",
       "  Text(16, 0, ' Animation'),\n",
       "  Text(17, 0, 'Horror'),\n",
       "  Text(18, 0, 'Science Fiction'),\n",
       "  Text(19, 0, 'Fantasy'),\n",
       "  Text(20, 0, 'Family'),\n",
       "  Text(21, 0, ' History'),\n",
       "  Text(22, 0, 'Thriller'),\n",
       "  Text(23, 0, ' War'),\n",
       "  Text(24, 0, ' Horror'),\n",
       "  Text(25, 0, 'Crime'),\n",
       "  Text(26, 0, ' Music'),\n",
       "  Text(27, 0, 'Romance'),\n",
       "  Text(28, 0, 'Mystery'),\n",
       "  Text(29, 0, 'War'),\n",
       "  Text(30, 0, 'Music'),\n",
       "  Text(31, 0, ' Western'),\n",
       "  Text(32, 0, 'Unknown'),\n",
       "  Text(33, 0, 'Western'),\n",
       "  Text(34, 0, 'History'),\n",
       "  Text(35, 0, 'Documentary'),\n",
       "  Text(36, 0, ' Documentary'),\n",
       "  Text(37, 0, ' TV Movie'),\n",
       "  Text(38, 0, 'TV Movie')])"
      ]
     },
     "execution_count": 44,
     "metadata": {},
     "output_type": "execute_result"
    },
    {
     "data": {
      "text/plain": [
       "Text(0.5, 1.0, 'Total Revenue by Genre')"
      ]
     },
     "execution_count": 44,
     "metadata": {},
     "output_type": "execute_result"
    },
    {
     "data": {
      "text/plain": [
       "Text(0.5, 0, 'Genre')"
      ]
     },
     "execution_count": 44,
     "metadata": {},
     "output_type": "execute_result"
    },
    {
     "data": {
      "text/plain": [
       "Text(0, 0.5, 'Total Revenue (in million USD)')"
      ]
     },
     "execution_count": 44,
     "metadata": {},
     "output_type": "execute_result"
    },
    {
     "data": {
      "image/png": "[encoded data removed]",
      "text/plain": [
       "<Figure size 1200x600 with 1 Axes>"
      ]
     },
     "metadata": {},
     "output_type": "display_data"
    }
   ],
   "source": [
    "plt.figure(figsize=(12, 6))\n",
    "sns.barplot(data=genre_revenue, x='genre', y='sum', palette='viridis')\n",
    "plt.xticks(rotation=45, ha='right')\n",
    "plt.title('Total Revenue by Genre')\n",
    "plt.xlabel('Genre')\n",
    "plt.ylabel('Total Revenue (in million USD)')\n",
    "plt.show()"
   ]
  },
  {
   "cell_type": "markdown",
   "metadata": {},
   "source": [
    "### Average Revenue"
   ]
  },
  {
   "cell_type": "code",
   "execution_count": 47,
   "metadata": {},
   "outputs": [
    {
     "data": {
      "text/plain": [
       "<Figure size 1200x600 with 0 Axes>"
      ]
     },
     "execution_count": 47,
     "metadata": {},
     "output_type": "execute_result"
    },
    {
     "name": "stderr",
     "output_type": "stream",
     "text": [
      "C:\\Users\\Matthew\\AppData\\Local\\Temp\\ipykernel_18704\\2817241977.py:2: FutureWarning: \n",
      "\n",
      "Passing `palette` without assigning `hue` is deprecated and will be removed in v0.14.0. Assign the `x` variable to `hue` and set `legend=False` for the same effect.\n",
      "\n",
      "  sns.barplot(data=genre_revenue.sort_values(by='mean', ascending=False), x='genre', y='mean', palette='coolwarm')\n"
     ]
    },
    {
     "data": {
      "text/plain": [
       "<Axes: xlabel='genre', ylabel='mean'>"
      ]
     },
     "execution_count": 47,
     "metadata": {},
     "output_type": "execute_result"
    },
    {
     "data": {
      "text/plain": [
       "([0,\n",
       "  1,\n",
       "  2,\n",
       "  3,\n",
       "  4,\n",
       "  5,\n",
       "  6,\n",
       "  7,\n",
       "  8,\n",
       "  9,\n",
       "  10,\n",
       "  11,\n",
       "  12,\n",
       "  13,\n",
       "  14,\n",
       "  15,\n",
       "  16,\n",
       "  17,\n",
       "  18,\n",
       "  19,\n",
       "  20,\n",
       "  21,\n",
       "  22,\n",
       "  23,\n",
       "  24,\n",
       "  25,\n",
       "  26,\n",
       "  27,\n",
       "  28,\n",
       "  29,\n",
       "  30,\n",
       "  31,\n",
       "  32,\n",
       "  33,\n",
       "  34,\n",
       "  35,\n",
       "  36,\n",
       "  37,\n",
       "  38],\n",
       " [Text(0, 0, ' Adventure'),\n",
       "  Text(1, 0, 'Adventure'),\n",
       "  Text(2, 0, ' Science Fiction'),\n",
       "  Text(3, 0, ' Action'),\n",
       "  Text(4, 0, ' Fantasy'),\n",
       "  Text(5, 0, ' Family'),\n",
       "  Text(6, 0, 'Action'),\n",
       "  Text(7, 0, ' Animation'),\n",
       "  Text(8, 0, ' Thriller'),\n",
       "  Text(9, 0, 'Science Fiction'),\n",
       "  Text(10, 0, 'Fantasy'),\n",
       "  Text(11, 0, ' Crime'),\n",
       "  Text(12, 0, ' Comedy'),\n",
       "  Text(13, 0, ' Mystery'),\n",
       "  Text(14, 0, ' War'),\n",
       "  Text(15, 0, 'Family'),\n",
       "  Text(16, 0, ' Romance'),\n",
       "  Text(17, 0, ' History'),\n",
       "  Text(18, 0, ' Drama'),\n",
       "  Text(19, 0, 'War'),\n",
       "  Text(20, 0, ' Western'),\n",
       "  Text(21, 0, 'Mystery'),\n",
       "  Text(22, 0, ' Horror'),\n",
       "  Text(23, 0, 'Thriller'),\n",
       "  Text(24, 0, 'Crime'),\n",
       "  Text(25, 0, 'Animation'),\n",
       "  Text(26, 0, 'Comedy'),\n",
       "  Text(27, 0, 'Horror'),\n",
       "  Text(28, 0, ' Music'),\n",
       "  Text(29, 0, 'History'),\n",
       "  Text(30, 0, 'Romance'),\n",
       "  Text(31, 0, 'Drama'),\n",
       "  Text(32, 0, 'Western'),\n",
       "  Text(33, 0, 'Music'),\n",
       "  Text(34, 0, ' Documentary'),\n",
       "  Text(35, 0, 'Documentary'),\n",
       "  Text(36, 0, 'Unknown'),\n",
       "  Text(37, 0, ' TV Movie'),\n",
       "  Text(38, 0, 'TV Movie')])"
      ]
     },
     "execution_count": 47,
     "metadata": {},
     "output_type": "execute_result"
    },
    {
     "data": {
      "text/plain": [
       "Text(0.5, 1.0, 'Average Revenue by Genre')"
      ]
     },
     "execution_count": 47,
     "metadata": {},
     "output_type": "execute_result"
    },
    {
     "data": {
      "text/plain": [
       "Text(0.5, 0, 'Genre')"
      ]
     },
     "execution_count": 47,
     "metadata": {},
     "output_type": "execute_result"
    },
    {
     "data": {
      "text/plain": [
       "Text(0, 0.5, 'Average Revenue (in million USD)')"
      ]
     },
     "execution_count": 47,
     "metadata": {},
     "output_type": "execute_result"
    },
    {
     "data": {
      "image/png": "[encoded data removed]",
      "text/plain": [
       "<Figure size 1200x600 with 1 Axes>"
      ]
     },
     "metadata": {},
     "output_type": "display_data"
    }
   ],
   "source": [
    "plt.figure(figsize=(12, 6))\n",
    "sns.barplot(data=genre_revenue.sort_values(by='mean', ascending=False), x='genre', y='mean', palette='coolwarm')\n",
    "plt.xticks(rotation=45, ha='right')\n",
    "plt.title('Average Revenue by Genre')\n",
    "plt.xlabel('Genre')\n",
    "plt.ylabel('Average Revenue (in million USD)')\n",
    "plt.show()"
   ]
  },
  {
   "cell_type": "code",
   "execution_count": null,
   "metadata": {},
   "outputs": [],
   "source": []
  }
 ],
 "metadata": {
  "kernelspec": {
   "display_name": "base",
   "language": "python",
   "name": "python3"
  },
  "language_info": {
   "codemirror_mode": {
    "name": "ipython",
    "version": 3
   },
   "file_extension": ".py",
   "mimetype": "text/x-python",
   "name": "python",
   "nbconvert_exporter": "python",
   "pygments_lexer": "ipython3",
   "version": "3.12.3"
  }
 },
 "nbformat": 4,
 "nbformat_minor": 2
}
